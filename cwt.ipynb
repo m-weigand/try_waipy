{
 "cells": [
  {
   "cell_type": "code",
   "execution_count": null,
   "metadata": {},
   "outputs": [],
   "source": [
    "%matplotlib inline\n",
    "import pylab as plt\n",
    "import numpy as np\n",
    "import pandas as pd\n",
    "import waipy"
   ]
  },
  {
   "cell_type": "markdown",
   "metadata": {},
   "source": [
    "# Generating some data"
   ]
  },
  {
   "cell_type": "code",
   "execution_count": null,
   "metadata": {},
   "outputs": [],
   "source": [
    "np.random.seed(55)\n",
    "t = np.linspace(0, 100, 100, endpoint=False)\n",
    "\n",
    "tt = np.sort(np.random.randint(0, 99, size=t.size))\n",
    "#tt = t.copy()\n",
    "#tt += np.random.normal(scale=0.4, size=tt.size)\n",
    "\n",
    "np.random.seed(16)\n",
    "noise = np.random.normal(scale=0.5, size=t.size) * 0\n",
    "\n",
    "y = np.sin(2 * np.pi * t / 20) + np.sin(2 * np.pi * t / 10) + noise\n",
    "y[20:40] = 0\n",
    "yr = np.sin(2 * np.pi * tt / 20) + np.sin(2 * np.pi * tt / 10) + noise\n",
    "\n",
    "fig, axes = plt.subplots(1, 2)\n",
    "ax = axes[0]\n",
    "ax.plot(t, y)\n",
    "\n",
    "ax = axes[1]\n",
    "ax.plot(tt, yr)"
   ]
  },
  {
   "cell_type": "markdown",
   "metadata": {},
   "source": [
    "# CWA"
   ]
  },
  {
   "cell_type": "code",
   "execution_count": null,
   "metadata": {
    "scrolled": false
   },
   "outputs": [],
   "source": [
    "y_norm = waipy.normalize(y)\n",
    "result = waipy.cwt(y_norm, dt=1, pad=1, dj=0.125, s0=2, j1=4/0.125, lag1=0, param=6, mother='Morlet',name='x')\n",
    "\n",
    "waipy.wavelet_plot('Sine with gap', t, y_norm, 0.03125, result)"
   ]
  }
 ],
 "metadata": {
  "kernelspec": {
   "display_name": "Python 3",
   "language": "python",
   "name": "python3"
  },
  "language_info": {
   "codemirror_mode": {
    "name": "ipython",
    "version": 3
   },
   "file_extension": ".py",
   "mimetype": "text/x-python",
   "name": "python",
   "nbconvert_exporter": "python",
   "pygments_lexer": "ipython3",
   "version": "3.5.3"
  }
 },
 "nbformat": 4,
 "nbformat_minor": 2
}
